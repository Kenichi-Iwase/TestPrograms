{
  "nbformat": 4,
  "nbformat_minor": 0,
  "metadata": {
    "colab": {
      "name": "DeepLearningZero3_Ver01.ipynb",
      "provenance": [],
      "collapsed_sections": [],
      "authorship_tag": "ABX9TyON4GR4ucmxNNRC+EFwQbPo",
      "include_colab_link": true
    },
    "kernelspec": {
      "name": "python3",
      "display_name": "Python 3"
    },
    "language_info": {
      "name": "python"
    }
  },
  "cells": [
    {
      "cell_type": "markdown",
      "metadata": {
        "id": "view-in-github",
        "colab_type": "text"
      },
      "source": [
        "<a href=\"https://colab.research.google.com/github/Kenichi-Iwase/TestPrograms/blob/master/DeepLearningZero3_Ver01.ipynb\" target=\"_parent\"><img src=\"https://colab.research.google.com/assets/colab-badge.svg\" alt=\"Open In Colab\"/></a>"
      ]
    },
    {
      "cell_type": "markdown",
      "source": [
        "# VariableクラスとFunctionクラスの定義\n",
        "出典　ゼロからつくるディープラーニング3"
      ],
      "metadata": {
        "id": "1i3QSWt5OSr-"
      }
    },
    {
      "cell_type": "code",
      "execution_count": null,
      "metadata": {
        "id": "500qSenWNZN-"
      },
      "outputs": [],
      "source": [
        "import numpy as np"
      ]
    },
    {
      "cell_type": "markdown",
      "source": [
        "Variableクラスを定義"
      ],
      "metadata": {
        "id": "4VzXDrIRN5QH"
      }
    },
    {
      "cell_type": "code",
      "source": [
        "class Variable:\n",
        "  def __init__(self, data):\n",
        "    self.data = data"
      ],
      "metadata": {
        "id": "RzxZ_3e2NjRN"
      },
      "execution_count": null,
      "outputs": []
    },
    {
      "cell_type": "markdown",
      "source": [
        "実装"
      ],
      "metadata": {
        "id": "ri3NP2_6OFpw"
      }
    },
    {
      "cell_type": "code",
      "source": [
        "data = np.array(1.0)\n",
        "x = Variable(data)\n",
        "print(x.data)"
      ],
      "metadata": {
        "colab": {
          "base_uri": "https://localhost:8080/"
        },
        "id": "WKn59s3nOHwK",
        "outputId": "5a59c0d5-700f-4e48-f17e-a9c0eac4574a"
      },
      "execution_count": null,
      "outputs": [
        {
          "output_type": "stream",
          "name": "stdout",
          "text": [
            "1.0\n"
          ]
        }
      ]
    },
    {
      "cell_type": "markdown",
      "source": [
        "# Functionクラスの定義\n",
        "Pythonではクラスだが、Javaではインタフェースと呼ばれている。本書ではポリモーフィズムまたはストラテジパターンを使用してFunctionクラスの実装を見直している。\n",
        "*   Functionクラスは基底クラスとする\n",
        "*   具体的な関数はFunctionクラスを継承したクラスで実装する\n",
        "\n",
        "\n"
      ],
      "metadata": {
        "id": "7ZYeGCA-TLKX"
      }
    },
    {
      "cell_type": "code",
      "source": [
        "class Function:\n",
        "  def __call__(self,input):\n",
        "    x = input.data\n",
        "    y = self.forward(x)\n",
        "    output = Variable(y)\n",
        "    return output\n",
        "\n",
        "  def forward(self,x):\n",
        "    raise NotImplementedError()"
      ],
      "metadata": {
        "id": "hJOA5u4kS9WI"
      },
      "execution_count": null,
      "outputs": []
    },
    {
      "cell_type": "markdown",
      "source": [
        "# Squareクラスの定義"
      ],
      "metadata": {
        "id": "qCd2sOVbXAcI"
      }
    },
    {
      "cell_type": "code",
      "source": [
        "class Square(Function):\n",
        "  def forward(self,x):\n",
        "    return x ** 2"
      ],
      "metadata": {
        "id": "ImWR-ftUW3d0"
      },
      "execution_count": null,
      "outputs": []
    },
    {
      "cell_type": "markdown",
      "source": [
        "# VariableとFunctionオブジェクトの作成\n",
        "type()を使って、オブジェクトの型を取得することができる。\n",
        "f = Square()の箇所を f = Function()と記述するとNotImplementedErrorの例外が発生する。これは基底クラスのforward()メソッドが内部でコールされたため。"
      ],
      "metadata": {
        "id": "xrc0YYN2XNoE"
      }
    },
    {
      "cell_type": "code",
      "source": [
        "x = Variable(np.array(10))\n",
        "f = Square()\n",
        "y = f(x)\n",
        "\n",
        "print(type(y))\n",
        "print(y.data)"
      ],
      "metadata": {
        "colab": {
          "base_uri": "https://localhost:8080/"
        },
        "id": "gRf2a92NTgsA",
        "outputId": "e4b5a5f7-cc9c-4cc5-9d4b-0547023286a5"
      },
      "execution_count": null,
      "outputs": [
        {
          "output_type": "stream",
          "name": "stdout",
          "text": [
            "<class '__main__.Variable'>\n",
            "100\n"
          ]
        }
      ]
    },
    {
      "cell_type": "markdown",
      "source": [
        "# Expクラスの定義"
      ],
      "metadata": {
        "id": "xIW7_zP3bzL5"
      }
    },
    {
      "cell_type": "code",
      "source": [
        "class Exp(Function):\n",
        "  def forward(self,x):\n",
        "    return np.exp(x)"
      ],
      "metadata": {
        "id": "ppnd14-HY2ut"
      },
      "execution_count": null,
      "outputs": []
    },
    {
      "cell_type": "markdown",
      "source": [
        "# Expクラスの動作検証\n",
        "## 関数を連結して実行"
      ],
      "metadata": {
        "id": "Xfh8A_gYZ2Sf"
      }
    },
    {
      "cell_type": "code",
      "source": [
        "A = Square()\n",
        "B = Exp()\n",
        "C = Square()\n",
        "\n",
        "x = Variable(np.array(0.5))\n",
        "a = A(x)\n",
        "b = B(a)\n",
        "y = C(b)\n",
        "print(y.data)"
      ],
      "metadata": {
        "colab": {
          "base_uri": "https://localhost:8080/"
        },
        "id": "n6g5h5lqZ9IE",
        "outputId": "bf4e936e-a948-4bd3-8d5a-23fced88576e"
      },
      "execution_count": null,
      "outputs": [
        {
          "output_type": "stream",
          "name": "stdout",
          "text": [
            "1.648721270700128\n"
          ]
        }
      ]
    },
    {
      "cell_type": "markdown",
      "source": [
        "## 検証\n",
        "MATLABでは exp(0.5.^2).^2、Pythonは下記。"
      ],
      "metadata": {
        "id": "icAsEYlvb5N8"
      }
    },
    {
      "cell_type": "code",
      "source": [
        "print(np.exp(0.5**2)**2)"
      ],
      "metadata": {
        "colab": {
          "base_uri": "https://localhost:8080/"
        },
        "id": "brzosDPHb8jf",
        "outputId": "216c1c8e-8a35-4997-f13e-9786391885e0"
      },
      "execution_count": null,
      "outputs": [
        {
          "output_type": "stream",
          "name": "stdout",
          "text": [
            "1.648721270700128\n"
          ]
        }
      ]
    },
    {
      "cell_type": "markdown",
      "source": [
        "# 中心差分近似を用いて数値微分を求める関数の定義"
      ],
      "metadata": {
        "id": "rFfnP-vsd8KB"
      }
    },
    {
      "cell_type": "code",
      "source": [
        "def numerical_diff(f, x, eps=1e-4):\n",
        "  x0 = Variable(x.data - eps)\n",
        "  x1 = Variable(x.data + eps)\n",
        "  y0 = f(x0)\n",
        "  y1 = f(x1)\n",
        "  return (y1.data - y0.data) / (2 * eps)"
      ],
      "metadata": {
        "id": "X462u1WNdj9W"
      },
      "execution_count": null,
      "outputs": []
    },
    {
      "cell_type": "markdown",
      "source": [
        "# 動作検証\n",
        "## Squareクラス"
      ],
      "metadata": {
        "id": "8YJes5UnfLmG"
      }
    },
    {
      "cell_type": "code",
      "source": [
        "f = Square()\n",
        "x = Variable(np.array(2.0))\n",
        "dy = numerical_diff(f,x)\n",
        "print(dy)"
      ],
      "metadata": {
        "colab": {
          "base_uri": "https://localhost:8080/"
        },
        "id": "0kTF5oo1e07G",
        "outputId": "cb4a3365-f84d-4b8a-b295-f429702f4b3c"
      },
      "execution_count": null,
      "outputs": [
        {
          "output_type": "stream",
          "name": "stdout",
          "text": [
            "4.000000000004\n"
          ]
        }
      ]
    },
    {
      "cell_type": "code",
      "source": [
        "def f(x):\n",
        "  A = Square()\n",
        "  B = Exp()\n",
        "  C = Square()\n",
        "  return C(B(A(x)))\n",
        "\n",
        "x = Variable(np.array(0.5))\n",
        "dy = numerical_diff(f,x)\n",
        "print(dy)"
      ],
      "metadata": {
        "colab": {
          "base_uri": "https://localhost:8080/"
        },
        "id": "LWflzncnfdMa",
        "outputId": "7745cb0b-93b5-42f2-df9f-5dd1f5d4c212"
      },
      "execution_count": null,
      "outputs": [
        {
          "output_type": "stream",
          "name": "stdout",
          "text": [
            "3.2974426293330694\n"
          ]
        }
      ]
    }
  ]
}