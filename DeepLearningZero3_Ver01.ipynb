{
  "nbformat": 4,
  "nbformat_minor": 0,
  "metadata": {
    "colab": {
      "name": "DeepLearningZero3_Ver01.ipynb",
      "provenance": [],
      "collapsed_sections": [],
      "authorship_tag": "ABX9TyOZg6x/2bzq0blOkZk2JjKx",
      "include_colab_link": true
    },
    "kernelspec": {
      "name": "python3",
      "display_name": "Python 3"
    },
    "language_info": {
      "name": "python"
    }
  },
  "cells": [
    {
      "cell_type": "markdown",
      "metadata": {
        "id": "view-in-github",
        "colab_type": "text"
      },
      "source": [
        "<a href=\"https://colab.research.google.com/github/Kenichi-Iwase/TestPrograms/blob/master/DeepLearningZero3_Ver01.ipynb\" target=\"_parent\"><img src=\"https://colab.research.google.com/assets/colab-badge.svg\" alt=\"Open In Colab\"/></a>"
      ]
    },
    {
      "cell_type": "markdown",
      "source": [
        "# VariableクラスとFunctionクラスの定義\n",
        "出典　ゼロからつくるディープラーニング3"
      ],
      "metadata": {
        "id": "1i3QSWt5OSr-"
      }
    },
    {
      "cell_type": "code",
      "execution_count": 1,
      "metadata": {
        "id": "500qSenWNZN-"
      },
      "outputs": [],
      "source": [
        "import numpy as np"
      ]
    },
    {
      "cell_type": "markdown",
      "source": [
        "## Variableクラスを定義\n",
        "self.dataはdataオブジェクトを格納。self.grad は一旦 None で定義。"
      ],
      "metadata": {
        "id": "4VzXDrIRN5QH"
      }
    },
    {
      "cell_type": "code",
      "source": [
        "class Variable:\n",
        "  def __init__(self, data):\n",
        "    self.data = data\n",
        "    self.grad = None"
      ],
      "metadata": {
        "id": "RzxZ_3e2NjRN"
      },
      "execution_count": 2,
      "outputs": []
    },
    {
      "cell_type": "markdown",
      "source": [
        "実装"
      ],
      "metadata": {
        "id": "ri3NP2_6OFpw"
      }
    },
    {
      "cell_type": "code",
      "source": [
        "data = np.array(1.0)\n",
        "x = Variable(data)\n",
        "print(x.data)"
      ],
      "metadata": {
        "colab": {
          "base_uri": "https://localhost:8080/"
        },
        "id": "WKn59s3nOHwK",
        "outputId": "926358f7-ed25-46bc-82e9-f09d8725ddb7"
      },
      "execution_count": 3,
      "outputs": [
        {
          "output_type": "stream",
          "name": "stdout",
          "text": [
            "1.0\n"
          ]
        }
      ]
    },
    {
      "cell_type": "markdown",
      "source": [
        "# Functionクラスの定義\n",
        "## forwardメソッド実装\n",
        "Pythonではクラスだが、Javaではインタフェースと呼ばれている。本書ではポリモーフィズムまたはストラテジパターンを使用してFunctionクラスの実装を見直している。\n",
        "*   Functionクラスは基底クラスとする\n",
        "*   具体的な関数はFunctionクラスを継承したクラスで実装する\n",
        "\n",
        "## backwardメソッドを実装\n",
        "6章でbackwardメソッドを実装"
      ],
      "metadata": {
        "id": "7ZYeGCA-TLKX"
      }
    },
    {
      "cell_type": "code",
      "source": [
        "class Function:\n",
        "  def __call__(self,input):\n",
        "    x = input.data\n",
        "    y = self.forward(x)\n",
        "    output = Variable(y)\n",
        "    self.input = input  # 入力された変数を覚える\n",
        "    return output\n",
        "\n",
        "  def forward(self,x):\n",
        "    raise NotImplementedError()\n",
        "\n",
        "  def backward(self,gy):\n",
        "    raise NotImplementedError()"
      ],
      "metadata": {
        "id": "hJOA5u4kS9WI"
      },
      "execution_count": 4,
      "outputs": []
    },
    {
      "cell_type": "markdown",
      "source": [
        "# Squareクラスの定義\n",
        "## forwardメソッドの実装\n",
        "forwardメソッドの実装\n",
        "## backwardメソッドの実装\n",
        "6章でbackwardメソッドの実装。self.input.data とは何者なのか。微分した結果を入れるのがポイント。"
      ],
      "metadata": {
        "id": "qCd2sOVbXAcI"
      }
    },
    {
      "cell_type": "code",
      "source": [
        "class Square(Function):\n",
        "  def forward(self,x):\n",
        "    return x ** 2\n",
        "\n",
        "  def backward(self,gy):\n",
        "    x = self.input.data\n",
        "    gx = 2 * x * gy\n",
        "    return gx"
      ],
      "metadata": {
        "id": "ImWR-ftUW3d0"
      },
      "execution_count": 5,
      "outputs": []
    },
    {
      "cell_type": "markdown",
      "source": [
        "# VariableとFunctionオブジェクトの作成\n",
        "type()を使って、オブジェクトの型を取得することができる。\n",
        "f = Square()の箇所を f = Function()と記述するとNotImplementedErrorの例外が発生する。これは基底クラスのforward()メソッドが内部でコールされたため。"
      ],
      "metadata": {
        "id": "xrc0YYN2XNoE"
      }
    },
    {
      "cell_type": "code",
      "source": [
        "x = Variable(np.array(10))\n",
        "f = Square()\n",
        "y = f(x)\n",
        "\n",
        "print(type(y))\n",
        "print(y.data)"
      ],
      "metadata": {
        "colab": {
          "base_uri": "https://localhost:8080/"
        },
        "id": "gRf2a92NTgsA",
        "outputId": "a3a7b8d7-1ad2-4f21-bd97-d443ea89ef52"
      },
      "execution_count": 6,
      "outputs": [
        {
          "output_type": "stream",
          "name": "stdout",
          "text": [
            "<class '__main__.Variable'>\n",
            "100\n"
          ]
        }
      ]
    },
    {
      "cell_type": "markdown",
      "source": [
        "# Expクラスの定義\n",
        "## forwardメソッド\n",
        "## backwardメソッド\n",
        "self.input.data とは何者なのか。微分した結果を入れるのがポイント。"
      ],
      "metadata": {
        "id": "xIW7_zP3bzL5"
      }
    },
    {
      "cell_type": "code",
      "source": [
        "class Exp(Function):\n",
        "  def forward(self,x):\n",
        "    return np.exp(x)\n",
        "\n",
        "  def backward(self,gy):\n",
        "    x = self.input.data\n",
        "    gx = np.exp(x) * gy\n",
        "    return gx"
      ],
      "metadata": {
        "id": "ppnd14-HY2ut"
      },
      "execution_count": 7,
      "outputs": []
    },
    {
      "cell_type": "markdown",
      "source": [
        "# Expクラスの動作検証\n",
        "## 関数を連結して実行"
      ],
      "metadata": {
        "id": "Xfh8A_gYZ2Sf"
      }
    },
    {
      "cell_type": "code",
      "source": [
        "A = Square()\n",
        "B = Exp()\n",
        "C = Square()\n",
        "\n",
        "x = Variable(np.array(0.5))\n",
        "a = A(x)\n",
        "b = B(a)\n",
        "y = C(b)\n",
        "print(y.data)"
      ],
      "metadata": {
        "colab": {
          "base_uri": "https://localhost:8080/"
        },
        "id": "n6g5h5lqZ9IE",
        "outputId": "fba2f4a7-dbd4-4def-d3a9-2bff61679427"
      },
      "execution_count": 8,
      "outputs": [
        {
          "output_type": "stream",
          "name": "stdout",
          "text": [
            "1.648721270700128\n"
          ]
        }
      ]
    },
    {
      "cell_type": "markdown",
      "source": [
        "## 検証\n",
        "MATLABでは exp(0.5.^2).^2、Pythonは下記。"
      ],
      "metadata": {
        "id": "icAsEYlvb5N8"
      }
    },
    {
      "cell_type": "code",
      "source": [
        "print(np.exp(0.5**2)**2)"
      ],
      "metadata": {
        "colab": {
          "base_uri": "https://localhost:8080/"
        },
        "id": "brzosDPHb8jf",
        "outputId": "e6c74491-7ff1-4490-e91a-687c69258ef6"
      },
      "execution_count": 9,
      "outputs": [
        {
          "output_type": "stream",
          "name": "stdout",
          "text": [
            "1.648721270700128\n"
          ]
        }
      ]
    },
    {
      "cell_type": "markdown",
      "source": [
        "# 中心差分近似を用いて数値微分を求める関数の定義"
      ],
      "metadata": {
        "id": "rFfnP-vsd8KB"
      }
    },
    {
      "cell_type": "code",
      "source": [
        "def numerical_diff(f, x, eps=1e-4):\n",
        "  x0 = Variable(x.data - eps)\n",
        "  x1 = Variable(x.data + eps)\n",
        "  y0 = f(x0)\n",
        "  y1 = f(x1)\n",
        "  return (y1.data - y0.data) / (2 * eps)"
      ],
      "metadata": {
        "id": "X462u1WNdj9W"
      },
      "execution_count": 10,
      "outputs": []
    },
    {
      "cell_type": "markdown",
      "source": [
        "# 動作検証\n",
        "## Squareクラス"
      ],
      "metadata": {
        "id": "8YJes5UnfLmG"
      }
    },
    {
      "cell_type": "code",
      "source": [
        "f = Square()\n",
        "x = Variable(np.array(2.0))\n",
        "dy = numerical_diff(f,x)\n",
        "print(dy)"
      ],
      "metadata": {
        "colab": {
          "base_uri": "https://localhost:8080/"
        },
        "id": "0kTF5oo1e07G",
        "outputId": "00d3a39e-7b30-409d-aaaf-2950223a90ce"
      },
      "execution_count": 11,
      "outputs": [
        {
          "output_type": "stream",
          "name": "stdout",
          "text": [
            "4.000000000004\n"
          ]
        }
      ]
    },
    {
      "cell_type": "code",
      "source": [
        "def f(x):\n",
        "  A = Square()\n",
        "  B = Exp()\n",
        "  C = Square()\n",
        "  return C(B(A(x)))\n",
        "\n",
        "x = Variable(np.array(0.5))\n",
        "dy = numerical_diff(f,x)\n",
        "print(dy)"
      ],
      "metadata": {
        "colab": {
          "base_uri": "https://localhost:8080/"
        },
        "id": "LWflzncnfdMa",
        "outputId": "7efbf1ef-7784-403b-fda9-0b7b5e71f392"
      },
      "execution_count": 12,
      "outputs": [
        {
          "output_type": "stream",
          "name": "stdout",
          "text": [
            "3.2974426293330694\n"
          ]
        }
      ]
    },
    {
      "cell_type": "markdown",
      "source": [
        "#バックプロパゲーションの実装\n",
        "6章のバックプロパゲーションを実装"
      ],
      "metadata": {
        "id": "zjIcUivM86Y4"
      }
    },
    {
      "cell_type": "code",
      "source": [
        "A = Square()\n",
        "B = Exp()\n",
        "C = Square()\n",
        "\n",
        "x = Variable(np.array(0.5))\n",
        "a = A(x)\n",
        "b = B(a)\n",
        "c = C(b)\n",
        "\n",
        "y.grad = np.array(1.0)\n",
        "b.grad = C.backward(y.grad)\n",
        "a.grad = B.backward(b.grad)\n",
        "x.grad = A.backward(a.grad)\n",
        "print(x.grad)"
      ],
      "metadata": {
        "colab": {
          "base_uri": "https://localhost:8080/"
        },
        "id": "OtSqCoGc9F1z",
        "outputId": "0f425cf6-8592-4926-b17f-9a34f9b74dea"
      },
      "execution_count": 14,
      "outputs": [
        {
          "output_type": "stream",
          "name": "stdout",
          "text": [
            "3.297442541400256\n"
          ]
        }
      ]
    }
  ]
}